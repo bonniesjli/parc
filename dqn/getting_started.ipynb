{
 "cells": [
  {
   "cell_type": "markdown",
   "metadata": {},
   "source": [
    "# Deep Q Network (DQN)\n",
    "In this notebook, we will run a DQN agent. <br>\n",
    "This notebook is only an interface between the agent and the environment. <br>\n",
    "If you are learning DQN, the most important code to understand is dqn.py . You should look through dqn.py before running this notebook. <br>"
   ]
  },
  {
   "cell_type": "code",
   "execution_count": 1,
   "metadata": {},
   "outputs": [],
   "source": [
    "import gym\n",
    "import numpy as np\n",
    "import torch\n",
    "import itertools"
   ]
  },
  {
   "cell_type": "markdown",
   "metadata": {},
   "source": [
    "We put the hyperparameters in a class format."
   ]
  },
  {
   "cell_type": "code",
   "execution_count": 2,
   "metadata": {},
   "outputs": [],
   "source": [
    "class Args:\n",
    "    gamma = 0.99\n",
    "    tau = 0.005       # target smoothing coefficient(τ)\n",
    "    lr = 0.0003       # learning rate\n",
    "    eps_min = 0.01    # minimum value of epsilon, for epsilon-greedy selection\n",
    "    eps_decays = 5000 # number of time steps to decay epsilon over\n",
    "    num_steps = 10000 # total number of training time steps\n",
    "    start_steps = 500 # time steps before learning and using action from policy\n",
    "    hidden_size = 256 # size of hidden layers for value function\n",
    "    batch_size = 128\n",
    "    buffer_size = 1000000\n",
    "    update_freq = 4\n",
    "    cuda = False\n",
    "args = Args()"
   ]
  },
  {
   "cell_type": "markdown",
   "metadata": {},
   "source": [
    "## Instantiate Environment and Agent\n",
    "Here we use a simple environment, CartPole from OpenAI gym, so we learn on it quickly (within thousands of time steps of training). <br>\n",
    "You can also train on other environments with the same code and modified hyperparameters, although that wouldu usually require many more time steps of training. "
   ]
  },
  {
   "cell_type": "code",
   "execution_count": 3,
   "metadata": {},
   "outputs": [
    {
     "name": "stdout",
     "output_type": "stream",
     "text": [
      "state size : 4\n",
      "action space :  Discrete(2)\n",
      "number of actions :  2\n"
     ]
    }
   ],
   "source": [
    "env = gym.make('CartPole-v1')\n",
    "print (\"state size :\", env.observation_space.shape[0])\n",
    "print (\"action space : \", env.action_space)\n",
    "print (\"number of actions : \", env.action_space.n)"
   ]
  },
  {
   "cell_type": "markdown",
   "metadata": {},
   "source": [
    "Here we instantiate our agent. See dqn.py (in this directory) for source code of the DQN agent. <br>\n",
    "We pass the state size, number of actions, action space, and our hyperparameter object as the initial parameters for the agent."
   ]
  },
  {
   "cell_type": "code",
   "execution_count": 4,
   "metadata": {},
   "outputs": [],
   "source": [
    "from dqn import DQN\n",
    "agent = DQN(env.observation_space.shape[0], env.action_space.n, env.action_space, args)"
   ]
  },
  {
   "cell_type": "markdown",
   "metadata": {},
   "source": [
    "We use QuickLogger to log the agent performance while learning. <br>\n",
    "To see the source code of QuickLogger, see the class QuickLogger in utils/loggin.py"
   ]
  },
  {
   "cell_type": "code",
   "execution_count": 5,
   "metadata": {},
   "outputs": [],
   "source": [
    "from utils.loggin import QuickLogger\n",
    "LOG = QuickLogger()\n",
    "LOG.create(\"score\")\n",
    "LOG.create(\"q_loss\")"
   ]
  },
  {
   "cell_type": "markdown",
   "metadata": {},
   "source": [
    "## Learning Loop"
   ]
  },
  {
   "cell_type": "code",
   "execution_count": 6,
   "metadata": {},
   "outputs": [
    {
     "name": "stdout",
     "output_type": "stream",
     "text": [
      "Episode: 10, total numsteps: 227, episode steps: 13, reward: 13.0\n",
      "Episode: 20, total numsteps: 453, episode steps: 13, reward: 13.0\n",
      "Episode: 30, total numsteps: 634, episode steps: 21, reward: 21.0\n",
      "Episode: 40, total numsteps: 785, episode steps: 18, reward: 18.0\n",
      "Episode: 50, total numsteps: 990, episode steps: 11, reward: 11.0\n",
      "Episode: 60, total numsteps: 1138, episode steps: 10, reward: 10.0\n",
      "Episode: 70, total numsteps: 1283, episode steps: 13, reward: 13.0\n",
      "Episode: 80, total numsteps: 1421, episode steps: 14, reward: 14.0\n",
      "Episode: 90, total numsteps: 1561, episode steps: 20, reward: 20.0\n",
      "Episode: 100, total numsteps: 1710, episode steps: 25, reward: 25.0\n",
      "Episode: 110, total numsteps: 1920, episode steps: 17, reward: 17.0\n",
      "Episode: 120, total numsteps: 2062, episode steps: 16, reward: 16.0\n",
      "Episode: 130, total numsteps: 2186, episode steps: 9, reward: 9.0\n",
      "Episode: 140, total numsteps: 2358, episode steps: 16, reward: 16.0\n",
      "epsilon set to:  0.5049999999999213\n",
      "Episode: 150, total numsteps: 2533, episode steps: 14, reward: 14.0\n",
      "Episode: 160, total numsteps: 2772, episode steps: 12, reward: 12.0\n",
      "Episode: 170, total numsteps: 2917, episode steps: 11, reward: 11.0\n",
      "Episode: 180, total numsteps: 3088, episode steps: 22, reward: 22.0\n",
      "Episode: 190, total numsteps: 3359, episode steps: 80, reward: 80.0\n",
      "Episode: 200, total numsteps: 3780, episode steps: 86, reward: 86.0\n",
      "epsilon set to:  0.01\n",
      "Episode: 210, total numsteps: 5405, episode steps: 267, reward: 267.0\n",
      "Episode: 220, total numsteps: 8735, episode steps: 415, reward: 415.0\n"
     ]
    }
   ],
   "source": [
    "total_numsteps = 0\n",
    "for i_episode in itertools.count(1):\n",
    "\n",
    "    episode_reward = 0\n",
    "    episode_steps = 0\n",
    "    done = False\n",
    "    state = env.reset()\n",
    "\n",
    "    while not done:\n",
    "        if total_numsteps < args.start_steps:\n",
    "            action = env.action_space.sample()  # Sample random action\n",
    "        else:\n",
    "            action = agent.act(state)  # Sample action from policy\n",
    "\n",
    "        next_state, reward, done, _ = env.step(action) \n",
    "        episode_steps += 1\n",
    "        total_numsteps += 1\n",
    "        episode_reward += reward\n",
    "\n",
    "        mask = float(not done)\n",
    "        agent.step(state, action, reward, next_state, mask)\n",
    "        \n",
    "        if total_numsteps >= args.start_steps and total_numsteps % args.update_freq == 0:\n",
    "            q_loss = agent.update()\n",
    "            LOG.log(\"q_loss\", q_loss, total_numsteps)\n",
    "\n",
    "        state = next_state\n",
    "    \n",
    "    LOG.log(\"score\", episode_reward, total_numsteps)\n",
    "    if i_episode % 10 == 0:\n",
    "        print(\"Episode: {}, total numsteps: {}, episode steps: {}, reward: {}\".format(i_episode, total_numsteps, episode_steps, round(episode_reward, 2)))\n",
    "\n",
    "    if total_numsteps > args.num_steps:\n",
    "        break"
   ]
  },
  {
   "cell_type": "markdown",
   "metadata": {},
   "source": [
    "Plot the score using the logger we created. You can also plot q_loss to see loss through the learning process."
   ]
  },
  {
   "cell_type": "code",
   "execution_count": 7,
   "metadata": {},
   "outputs": [
    {
     "data": {
      "image/png": "[encoded data removed]",
      "text/plain": [
       "<Figure size 432x288 with 1 Axes>"
      ]
     },
     "metadata": {
      "needs_background": "light"
     },
     "output_type": "display_data"
    }
   ],
   "source": [
    "LOG.visualize(\"score\")"
   ]
  },
  {
   "cell_type": "markdown",
   "metadata": {},
   "source": [
    "## Watch a Trained Agent"
   ]
  },
  {
   "cell_type": "code",
   "execution_count": 8,
   "metadata": {},
   "outputs": [
    {
     "name": "stdout",
     "output_type": "stream",
     "text": [
      "watching episode  1\n",
      "watching episode  2\n",
      "watching episode  3\n"
     ]
    }
   ],
   "source": [
    "import time\n",
    "for i in range(3):\n",
    "    state = env.reset()\n",
    "    done = False\n",
    "    print (\"watching episode \", i + 1)\n",
    "    while not done:\n",
    "        action = agent.act(state)\n",
    "        env.render()\n",
    "        next_state, reward, done, _ = env.step(action)\n",
    "        state = next_state\n",
    "\n",
    "env.close()"
   ]
  },
  {
   "cell_type": "code",
   "execution_count": null,
   "metadata": {},
   "outputs": [],
   "source": []
  }
 ],
 "metadata": {
  "kernelspec": {
   "display_name": "Python 3",
   "language": "python",
   "name": "python3"
  },
  "language_info": {
   "codemirror_mode": {
    "name": "ipython",
    "version": 3
   },
   "file_extension": ".py",
   "mimetype": "text/x-python",
   "name": "python",
   "nbconvert_exporter": "python",
   "pygments_lexer": "ipython3",
   "version": "3.7.4"
  }
 },
 "nbformat": 4,
 "nbformat_minor": 2
}
